{
 "cells": [
  {
   "cell_type": "markdown",
   "metadata": {},
   "source": [
    "# Self-Driving Car Engineer Nanodegree\n",
    "\n",
    "## Deep Learning\n",
    "\n",
    "## Project: Build a Traffic Sign Recognition Classifier\n",
    "\n",
    "In this notebook, a template is provided for you to implement your functionality in stages, which is required to successfully complete this project. If additional code is required that cannot be included in the notebook, be sure that the Python code is successfully imported and included in your submission if necessary. \n",
    "\n",
    "> **Note**: Once you have completed all of the code implementations, you need to finalize your work by exporting the iPython Notebook as an HTML document. Before exporting the notebook to html, all of the code cells need to have been run so that reviewers can see the final implementation and output. You can then export the notebook by using the menu above and navigating to  \\n\",\n",
    "    \"**File -> Download as -> HTML (.html)**. Include the finished document along with this notebook as your submission. \n",
    "\n",
    "In addition to implementing code, there is a writeup to complete. The writeup should be completed in a separate file, which can be either a markdown file or a pdf document. There is a [write up template](https://github.com/udacity/CarND-Traffic-Sign-Classifier-Project/blob/master/writeup_template.md) that can be used to guide the writing process. Completing the code template and writeup template will cover all of the [rubric points](https://review.udacity.com/#!/rubrics/481/view) for this project.\n",
    "\n",
    "The [rubric](https://review.udacity.com/#!/rubrics/481/view) contains \"Stand Out Suggestions\" for enhancing the project beyond the minimum requirements. The stand out suggestions are optional. If you decide to pursue the \"stand out suggestions\", you can include the code in this Ipython notebook and also discuss the results in the writeup file.\n",
    "\n",
    "\n",
    ">**Note:** Code and Markdown cells can be executed using the **Shift + Enter** keyboard shortcut. In addition, Markdown cells can be edited by typically double-clicking the cell to enter edit mode."
   ]
  },
  {
   "cell_type": "markdown",
   "metadata": {},
   "source": [
    "---\n",
    "## Step 0: Load The Data"
   ]
  },
  {
   "cell_type": "code",
   "execution_count": 1,
   "metadata": {
    "collapsed": true
   },
   "outputs": [],
   "source": [
    "# Load pickled data\n",
    "import pickle\n",
    "\n",
    "\n",
    "# TODO: Fill this in based on where you saved the training and testing data\n",
    "\n",
    "training_file = \"./train.p\"\n",
    "validation_file=\"./valid.p\"\n",
    "testing_file = \"./test.p\"\n",
    "\n",
    "with open(training_file, mode='rb') as f:\n",
    "    train = pickle.load(f)\n",
    "with open(validation_file, mode='rb') as f:\n",
    "    valid = pickle.load(f)\n",
    "with open(testing_file, mode='rb') as f:\n",
    "    test = pickle.load(f)\n",
    "    \n",
    "X_train, y_train = train['features'], train['labels']\n",
    "X_valid, y_valid = valid['features'], valid['labels']\n",
    "X_test, y_test = test['features'], test['labels']"
   ]
  },
  {
   "cell_type": "markdown",
   "metadata": {},
   "source": [
    "---\n",
    "\n",
    "## Step 1: Dataset Summary & Exploration\n",
    "\n",
    "The pickled data is a dictionary with 4 key/value pairs:\n",
    "\n",
    "- `'features'` is a 4D array containing raw pixel data of the traffic sign images, (num examples, width, height, channels).\n",
    "- `'labels'` is a 1D array containing the label/class id of the traffic sign. The file `signnames.csv` contains id -> name mappings for each id.\n",
    "- `'sizes'` is a list containing tuples, (width, height) representing the original width and height the image.\n",
    "- `'coords'` is a list containing tuples, (x1, y1, x2, y2) representing coordinates of a bounding box around the sign in the image. **THESE COORDINATES ASSUME THE ORIGINAL IMAGE. THE PICKLED DATA CONTAINS RESIZED VERSIONS (32 by 32) OF THESE IMAGES**\n",
    "\n",
    "Complete the basic data summary below. Use python, numpy and/or pandas methods to calculate the data summary rather than hard coding the results. For example, the [pandas shape method](http://pandas.pydata.org/pandas-docs/stable/generated/pandas.DataFrame.shape.html) might be useful for calculating some of the summary results. "
   ]
  },
  {
   "cell_type": "markdown",
   "metadata": {},
   "source": [
    "### Provide a Basic Summary of the Data Set Using Python, Numpy and/or Pandas"
   ]
  },
  {
   "cell_type": "code",
   "execution_count": 2,
   "metadata": {},
   "outputs": [
    {
     "name": "stdout",
     "output_type": "stream",
     "text": [
      "Number of training examples = 34799\n",
      "Number of testing examples = 12630\n",
      "Image data shape = (32, 32, 3)\n",
      "Number of classes = 43\n"
     ]
    }
   ],
   "source": [
    "### Replace each question mark with the appropriate value. \n",
    "### Use python, pandas or numpy methods rather than hard coding the results\n",
    "import pandas as pd\n",
    "# TODO: Number of training examples\n",
    "n_train = X_train.shape[0]\n",
    "\n",
    "# TODO: Number of validation examples\n",
    "n_validation = X_valid.shape[0]\n",
    "\n",
    "# TODO: Number of testing examples.\n",
    "n_test = X_test.shape[0]\n",
    "\n",
    "# TODO: What's the shape of an traffic sign image?\n",
    "image_shape = X_train[0].shape\n",
    "\n",
    "# TODO: How many unique classes/labels there are in the dataset.\n",
    "n_classes = pd.unique(y_train).shape[0]\n",
    "\n",
    "print(\"Number of training examples =\", n_train)\n",
    "print(\"Number of testing examples =\", n_test)\n",
    "print(\"Image data shape =\", image_shape)\n",
    "print(\"Number of classes =\", n_classes)"
   ]
  },
  {
   "cell_type": "markdown",
   "metadata": {},
   "source": [
    "### Include an exploratory visualization of the dataset"
   ]
  },
  {
   "cell_type": "markdown",
   "metadata": {},
   "source": [
    "Visualize the German Traffic Signs Dataset using the pickled file(s). This is open ended, suggestions include: plotting traffic sign images, plotting the count of each sign, etc. \n",
    "\n",
    "The [Matplotlib](http://matplotlib.org/) [examples](http://matplotlib.org/examples/index.html) and [gallery](http://matplotlib.org/gallery.html) pages are a great resource for doing visualizations in Python.\n",
    "\n",
    "**NOTE:** It's recommended you start with something simple first. If you wish to do more, come back to it after you've completed the rest of the sections. It can be interesting to look at the distribution of classes in the training, validation and test set. Is the distribution the same? Are there more examples of some classes than others?"
   ]
  },
  {
   "cell_type": "code",
   "execution_count": 3,
   "metadata": {},
   "outputs": [
    {
     "data": {
      "text/plain": [
       "<matplotlib.text.Text at 0x7fdb3d784080>"
      ]
     },
     "execution_count": 3,
     "metadata": {},
     "output_type": "execute_result"
    },
    {
     "data": {
      "image/png": "[encoded data removed]",
      "text/plain": [
       "<matplotlib.figure.Figure at 0x7fdb42317da0>"
      ]
     },
     "metadata": {},
     "output_type": "display_data"
    },
    {
     "data": {
      "image/png": "[encoded data removed]",
      "text/plain": [
       "<matplotlib.figure.Figure at 0x7fdb4f448ef0>"
      ]
     },
     "metadata": {},
     "output_type": "display_data"
    },
    {
     "data": {
      "image/png": "[encoded data removed]",
      "text/plain": [
       "<matplotlib.figure.Figure at 0x7fdb3d7e5400>"
      ]
     },
     "metadata": {},
     "output_type": "display_data"
    }
   ],
   "source": [
    "### Data exploration visualization code goes here.\n",
    "### Feel free to use as many code cells as needed.\n",
    "import matplotlib.pyplot as plt\n",
    "# Visualizations will be shown in the notebook.\n",
    "%matplotlib inline\n",
    "\n",
    "fig1 = plt.figure()\n",
    "ax1 = fig1.add_subplot(111)\n",
    "hist_results = ax1.hist(y_train,n_classes)\n",
    "ax1.set_title('train_set')\n",
    "ax1.set_xlabel('class id')\n",
    "ax1.set_ylabel('count')\n",
    "\n",
    "fig2= plt.figure()\n",
    "ax2 = fig2.add_subplot(111)\n",
    "hist_results = ax2.hist(y_valid,n_classes)\n",
    "ax2.set_title('validation_set')\n",
    "ax2.set_xlabel('class id')\n",
    "ax2.set_ylabel('count')\n",
    "\n",
    "fig3= plt.figure()\n",
    "ax3 = fig3.add_subplot(111)\n",
    "hist_results = ax3.hist(y_test,n_classes)\n",
    "ax3.set_title('test_set')\n",
    "ax3.set_xlabel('class id')\n",
    "ax3.set_ylabel('count')"
   ]
  },
  {
   "cell_type": "markdown",
   "metadata": {},
   "source": [
    "----\n",
    "\n",
    "## Step 2: Design and Test a Model Architecture\n",
    "\n",
    "Design and implement a deep learning model that learns to recognize traffic signs. Train and test your model on the [German Traffic Sign Dataset](http://benchmark.ini.rub.de/?section=gtsrb&subsection=dataset).\n",
    "\n",
    "The LeNet-5 implementation shown in the [classroom](https://classroom.udacity.com/nanodegrees/nd013/parts/fbf77062-5703-404e-b60c-95b78b2f3f9e/modules/6df7ae49-c61c-4bb2-a23e-6527e69209ec/lessons/601ae704-1035-4287-8b11-e2c2716217ad/concepts/d4aca031-508f-4e0b-b493-e7b706120f81) at the end of the CNN lesson is a solid starting point. You'll have to change the number of classes and possibly the preprocessing, but aside from that it's plug and play! \n",
    "\n",
    "With the LeNet-5 solution from the lecture, you should expect a validation set accuracy of about 0.89. To meet specifications, the validation set accuracy will need to be at least 0.93. It is possible to get an even higher accuracy, but 0.93 is the minimum for a successful project submission. \n",
    "\n",
    "There are various aspects to consider when thinking about this problem:\n",
    "\n",
    "- Neural network architecture (is the network over or underfitting?)\n",
    "- Play around preprocessing techniques (normalization, rgb to grayscale, etc)\n",
    "- Number of examples per label (some have more than others).\n",
    "- Generate fake data.\n",
    "\n",
    "Here is an example of a [published baseline model on this problem](http://yann.lecun.com/exdb/publis/pdf/sermanet-ijcnn-11.pdf). It's not required to be familiar with the approach used in the paper but, it's good practice to try to read papers like these."
   ]
  },
  {
   "cell_type": "markdown",
   "metadata": {},
   "source": [
    "### Pre-process the Data Set (normalization, grayscale, etc.)"
   ]
  },
  {
   "cell_type": "markdown",
   "metadata": {},
   "source": [
    "Minimally, the image data should be normalized so that the data has mean zero and equal variance. For image data, `(pixel - 128)/ 128` is a quick way to approximately normalize the data and can be used in this project. \n",
    "\n",
    "Other pre-processing steps are optional. You can try different techniques to see if it improves performance. \n",
    "\n",
    "Use the code cell (or multiple code cells, if necessary) to implement the first step of your project."
   ]
  },
  {
   "cell_type": "code",
   "execution_count": 4,
   "metadata": {},
   "outputs": [
    {
     "name": "stdout",
     "output_type": "stream",
     "text": [
      "x train gray shape:  (34799, 32, 32, 1)\n",
      "x valid gray shape:  (4410, 32, 32, 1)\n",
      "x test gray shape (12630, 32, 32, 1)\n"
     ]
    },
    {
     "data": {
      "text/plain": [
       "<matplotlib.image.AxesImage at 0x7fdb220126d8>"
      ]
     },
     "execution_count": 4,
     "metadata": {},
     "output_type": "execute_result"
    },
    {
     "data": {
      "image/png": "[encoded data removed]",
      "text/plain": [
       "<matplotlib.figure.Figure at 0x7fdb3d60b5f8>"
      ]
     },
     "metadata": {},
     "output_type": "display_data"
    }
   ],
   "source": [
    "### Preprocess the data here. It is required to normalize the data. Other preprocessing steps could include \n",
    "### converting to grayscale, etc.\n",
    "### Feel free to use as many code cells as needed.\n",
    "import numpy as np\n",
    "import cv2\n",
    "\n",
    "def convertToGray(rgb_img_arr):\n",
    "    gray_img = None\n",
    "    gray_img = cv2.cvtColor(rgb_img_arr, cv2.COLOR_BGR2GRAY)    \n",
    "    return gray_img\n",
    "\n",
    "# X_train_grayscale = X_train.astype(np.float32)\n",
    "# mean_train = np.mean(X_train,axis=0,dtype=np.float32)\n",
    "# X_train_grayscale = (X_train-mean_train)/np.std(X_train)\n",
    "\n",
    "# X_valid_grayscale = X_valid.astype(np.float32)\n",
    "# mean_valid = np.mean(X_valid,axis=0,dtype=np.float32)\n",
    "# X_valid_grayscale = (X_valid-mean_valid)/np.std(X_valid)\n",
    "\n",
    "\n",
    "# X_test_grayscale = X_test.astype(np.float32)\n",
    "# mean_test = np.mean(X_test,axis=0,dtype=np.float32)\n",
    "# X_test_grayscale = (X_test-mean_test)/np.std(X_test)\n",
    "\n",
    "X_train_grayscale = np.ndarray(shape=(n_train,32,32),dtype=np.float32)\n",
    "X_valid_grayscale = np.ndarray(shape=(n_validation,32,32),dtype=np.float32)\n",
    "X_test_grayscale = np.ndarray(shape=(n_test,32,32),dtype=np.float32)\n",
    "\n",
    "for i in range(n_train):\n",
    "    X_train_grayscale[i] = convertToGray(X_train[i])\n",
    "\n",
    "X_train_grayscale = X_train_grayscale.reshape(n_train,32,32,1)\n",
    "\n",
    "for i in range(n_validation):\n",
    "    X_valid_grayscale[i] = convertToGray(X_valid[i])\n",
    "X_valid_grayscale = X_valid_grayscale.reshape(n_validation,32,32,1)\n",
    "\n",
    "for i in range(n_test):\n",
    "    X_test_grayscale[i] = convertToGray(X_test[i])\n",
    "X_test_grayscale = X_test_grayscale.reshape(n_test,32,32,1)\n",
    "\n",
    "print('x train gray shape: ',X_train_grayscale.shape)\n",
    "print('x valid gray shape: ',X_valid_grayscale.shape)\n",
    "print('x test gray shape',X_test_grayscale.shape)\n",
    "f,axarr = plt.subplots(2,2)\n",
    "axarr[1,0].imshow(X_train[500,:,:,:])\n",
    "axarr[1,1].imshow(X_train_grayscale[500,:,:,0],cmap='gray')\n",
    "axarr[0,0].imshow(X_valid[200])\n",
    "axarr[0,1].imshow(X_valid_grayscale[200,:,:,0],cmap='gray')"
   ]
  },
  {
   "cell_type": "markdown",
   "metadata": {},
   "source": [
    "### Model Architecture"
   ]
  },
  {
   "cell_type": "code",
   "execution_count": 5,
   "metadata": {
    "collapsed": true
   },
   "outputs": [],
   "source": [
    "### Define your architecture here.\n",
    "### Feel free to use as many code cells as needed.\n",
    "import tensorflow as tf\n",
    "from  sklearn.utils import shuffle\n",
    "\n",
    "# X_train_norm,y_train = shuffle(X_train_norm,y_train)\n",
    "\n",
    "EPOCHS = 70\n",
    "BATCH_SIZE = 128"
   ]
  },
  {
   "cell_type": "code",
   "execution_count": 6,
   "metadata": {
    "collapsed": true
   },
   "outputs": [],
   "source": [
    "x = tf.placeholder(tf.float32,shape=(None,32,32,1))\n",
    "y = tf.placeholder(tf.int32,shape=(None))\n",
    "one_hot_y = tf.one_hot(y,43)\n",
    "keep_prob = tf.placeholder(tf.float32)"
   ]
  },
  {
   "cell_type": "code",
   "execution_count": 7,
   "metadata": {
    "collapsed": true
   },
   "outputs": [],
   "source": [
    "from tensorflow.contrib.layers import flatten \n",
    "\n",
    "def lenet(x,keep_prob):\n",
    "    mu = 0.0\n",
    "    sigma = 0.1\n",
    "    \n",
    "#   convolution layer 1\n",
    "    conv1_w = tf.Variable(tf.truncated_normal([5,5,1,6],mu,sigma))\n",
    "    conv1_b = tf.Variable(tf.zeros(6))\n",
    "    conv1 = tf.nn.conv2d(x,conv1_w,strides=(1,1,1,1),padding='VALID')+conv1_b\n",
    "    \n",
    "#   Activation\n",
    "    conv1 = tf.nn.relu(conv1)    \n",
    "    \n",
    "#   MAX POOL\n",
    "    mp1 = tf.nn.max_pool(conv1,ksize=[1,2,2,1],strides=([1,2,2,1]),padding='VALID')\n",
    "#   convolution layer 2\n",
    "    conv2_w = tf.Variable(tf.truncated_normal([5,5,6,16],mu,sigma))\n",
    "    conv2_b = tf.Variable(tf.zeros(16))\n",
    "    conv2 = tf.nn.conv2d(mp1,conv2_w,strides=[1,1,1,1],padding='VALID')+conv2_b   \n",
    "    conv2 = tf.nn.relu(conv2)\n",
    "    conv2 = tf.nn.max_pool(conv2,ksize=[1,2,2,1],strides=[1,2,2,1],padding='VALID')\n",
    "    \n",
    "#   Add two fully connected layers \n",
    "    fc0 = flatten(conv2)\n",
    "    \n",
    "    fc1_W = tf.Variable(tf.truncated_normal((400,120),mu,sigma))\n",
    "    fc1_b = tf.Variable(tf.zeros(120))\n",
    "    fc1 = tf.add(tf.matmul(fc0,fc1_W),fc1_b)\n",
    "    fc1 = tf.nn.relu(fc1)\n",
    "    fc1 = tf.nn.dropout(fc1,keep_prob)\n",
    "    \n",
    "\n",
    "    fc2_W = tf.Variable(tf.truncated_normal((120,84),mu,sigma))\n",
    "    fc2_b = tf.Variable(tf.zeros(84))\n",
    "    fc2 = tf.add(tf.matmul(fc1,fc2_W),fc2_b)\n",
    "    fc2 = tf.nn.relu(fc2)\n",
    "    fc2 = tf.nn.dropout(fc2,keep_prob)\n",
    "    \n",
    "    fc3_W = tf.Variable(tf.truncated_normal((84,43),mu,sigma))\n",
    "    fc3_b = tf.Variable(tf.zeros(43))\n",
    "    fc3 = tf.add(tf.matmul(fc2,fc3_W),fc3_b)\n",
    "    \n",
    "    logits = tf.nn.relu(fc3)\n",
    "        \n",
    "    return logits"
   ]
  },
  {
   "cell_type": "markdown",
   "metadata": {},
   "source": [
    "### Train, Validate and Test the Model"
   ]
  },
  {
   "cell_type": "markdown",
   "metadata": {},
   "source": [
    "A validation set can be used to assess how well the model is performing. A low accuracy on the training and validation\n",
    "sets imply underfitting. A high accuracy on the training set but low accuracy on the validation set implies overfitting."
   ]
  },
  {
   "cell_type": "code",
   "execution_count": 8,
   "metadata": {
    "collapsed": true
   },
   "outputs": [],
   "source": [
    "### Train your model here.\n",
    "### Calculate and report the accuracy on the training and validation set.\n",
    "### Once a final model architecture is selected, \n",
    "### the accuracy on the test set should be calculated and reported as well.\n",
    "### Feel free to use as many code cells as needed.\n",
    "rate = 0.001\n",
    "logits = lenet(x,keep_prob)\n",
    "cross_entropy = tf.nn.softmax_cross_entropy_with_logits(logits=logits,labels=one_hot_y)\n",
    "loss_operation = tf.reduce_mean(cross_entropy)\n",
    "optimizer = tf.train.AdamOptimizer(learning_rate = rate)\n",
    "training_operation = optimizer.minimize(loss_operation)\n",
    "\n",
    "correct_prediction = tf.equal(tf.argmax(logits,1),tf.argmax(one_hot_y,1))\n",
    "accuracy_operation = tf.reduce_mean(tf.cast(correct_prediction,tf.float32))\n",
    "saver = tf.train.Saver()\n",
    "\n",
    "def evaluate(X_data,y_data,bsize=BATCH_SIZE):\n",
    "    \n",
    "    num_examples = len(X_data)\n",
    "    total_accuracy = 0\n",
    "    loss = 0.0 \n",
    "    sess = tf.get_default_session()\n",
    "    for offset in range(0,num_examples, BATCH_SIZE):\n",
    "        batch_x,batch_y = X_data[offset:offset+BATCH_SIZE],y_data[offset:offset+BATCH_SIZE]\n",
    "        \n",
    "        temp_loss,accuracy = sess.run([loss_operation,accuracy_operation],\\\n",
    "                                 feed_dict={x:batch_x, y:batch_y,keep_prob:1.0})\n",
    "        loss +=(temp_loss)\n",
    "        total_accuracy+=(accuracy*len(batch_x))\n",
    "    \n",
    "    return loss/num_examples,total_accuracy/num_examples\n",
    "        "
   ]
  },
  {
   "cell_type": "code",
   "execution_count": 9,
   "metadata": {
    "collapsed": true
   },
   "outputs": [],
   "source": [
    "train_needed = True\n",
    "test_needed = False"
   ]
  },
  {
   "cell_type": "code",
   "execution_count": 10,
   "metadata": {},
   "outputs": [
    {
     "name": "stdout",
     "output_type": "stream",
     "text": [
      "Start model training\n",
      "\n",
      "EPOCH 1 ...\n",
      "Validation Accuracy = 0.575, loss = 0.015\n",
      "Training Accuracy = 0.649, loss = 0.012\n",
      "EPOCH 2 ...\n",
      "Validation Accuracy = 0.761, loss = 0.008\n",
      "Training Accuracy = 0.833, loss = 0.006\n",
      "EPOCH 3 ...\n",
      "Validation Accuracy = 0.824, loss = 0.006\n",
      "Training Accuracy = 0.899, loss = 0.004\n",
      "EPOCH 4 ...\n",
      "Validation Accuracy = 0.860, loss = 0.005\n",
      "Training Accuracy = 0.925, loss = 0.003\n",
      "EPOCH 5 ...\n",
      "Validation Accuracy = 0.859, loss = 0.005\n",
      "Training Accuracy = 0.930, loss = 0.002\n",
      "EPOCH 6 ...\n",
      "Validation Accuracy = 0.891, loss = 0.004\n",
      "Training Accuracy = 0.952, loss = 0.002\n",
      "EPOCH 7 ...\n",
      "Validation Accuracy = 0.895, loss = 0.004\n",
      "Training Accuracy = 0.959, loss = 0.001\n",
      "EPOCH 8 ...\n",
      "Validation Accuracy = 0.891, loss = 0.004\n",
      "Training Accuracy = 0.965, loss = 0.001\n",
      "EPOCH 9 ...\n",
      "Validation Accuracy = 0.909, loss = 0.004\n",
      "Training Accuracy = 0.967, loss = 0.001\n",
      "EPOCH 10 ...\n",
      "Validation Accuracy = 0.902, loss = 0.004\n",
      "Training Accuracy = 0.965, loss = 0.001\n",
      "EPOCH 11 ...\n",
      "Validation Accuracy = 0.910, loss = 0.003\n",
      "Training Accuracy = 0.972, loss = 0.001\n",
      "EPOCH 12 ...\n",
      "Validation Accuracy = 0.909, loss = 0.003\n",
      "Training Accuracy = 0.971, loss = 0.001\n",
      "EPOCH 13 ...\n",
      "Validation Accuracy = 0.912, loss = 0.003\n",
      "Training Accuracy = 0.973, loss = 0.001\n",
      "EPOCH 14 ...\n",
      "Validation Accuracy = 0.907, loss = 0.003\n",
      "Training Accuracy = 0.969, loss = 0.001\n",
      "EPOCH 15 ...\n",
      "Validation Accuracy = 0.898, loss = 0.004\n",
      "Training Accuracy = 0.968, loss = 0.001\n",
      "EPOCH 16 ...\n",
      "Validation Accuracy = 0.915, loss = 0.003\n",
      "Training Accuracy = 0.975, loss = 0.001\n",
      "EPOCH 17 ...\n",
      "Validation Accuracy = 0.916, loss = 0.003\n",
      "Training Accuracy = 0.974, loss = 0.001\n",
      "EPOCH 18 ...\n",
      "Validation Accuracy = 0.921, loss = 0.003\n",
      "Training Accuracy = 0.975, loss = 0.001\n",
      "EPOCH 19 ...\n",
      "Validation Accuracy = 0.923, loss = 0.003\n",
      "Training Accuracy = 0.977, loss = 0.001\n",
      "EPOCH 20 ...\n",
      "Validation Accuracy = 0.919, loss = 0.003\n",
      "Training Accuracy = 0.975, loss = 0.001\n",
      "EPOCH 21 ...\n",
      "Validation Accuracy = 0.919, loss = 0.003\n",
      "Training Accuracy = 0.977, loss = 0.001\n",
      "EPOCH 22 ...\n",
      "Validation Accuracy = 0.924, loss = 0.003\n",
      "Training Accuracy = 0.978, loss = 0.001\n",
      "EPOCH 23 ...\n",
      "Validation Accuracy = 0.908, loss = 0.004\n",
      "Training Accuracy = 0.975, loss = 0.001\n",
      "EPOCH 24 ...\n",
      "Validation Accuracy = 0.920, loss = 0.003\n",
      "Training Accuracy = 0.978, loss = 0.001\n",
      "EPOCH 25 ...\n",
      "Validation Accuracy = 0.918, loss = 0.003\n",
      "Training Accuracy = 0.977, loss = 0.001\n",
      "EPOCH 26 ...\n",
      "Validation Accuracy = 0.917, loss = 0.003\n",
      "Training Accuracy = 0.977, loss = 0.001\n",
      "EPOCH 27 ...\n",
      "Validation Accuracy = 0.917, loss = 0.003\n",
      "Training Accuracy = 0.976, loss = 0.001\n",
      "EPOCH 28 ...\n",
      "Validation Accuracy = 0.907, loss = 0.004\n",
      "Training Accuracy = 0.974, loss = 0.001\n",
      "EPOCH 29 ...\n",
      "Validation Accuracy = 0.916, loss = 0.004\n",
      "Training Accuracy = 0.977, loss = 0.001\n",
      "EPOCH 30 ...\n",
      "Validation Accuracy = 0.919, loss = 0.004\n",
      "Training Accuracy = 0.978, loss = 0.001\n",
      "EPOCH 31 ...\n",
      "Validation Accuracy = 0.920, loss = 0.004\n",
      "Training Accuracy = 0.979, loss = 0.001\n",
      "EPOCH 32 ...\n",
      "Validation Accuracy = 0.917, loss = 0.004\n",
      "Training Accuracy = 0.979, loss = 0.001\n",
      "EPOCH 33 ...\n",
      "Validation Accuracy = 0.917, loss = 0.004\n",
      "Training Accuracy = 0.979, loss = 0.001\n",
      "EPOCH 34 ...\n",
      "Validation Accuracy = 0.912, loss = 0.004\n",
      "Training Accuracy = 0.985, loss = 0.000\n",
      "EPOCH 35 ...\n",
      "Validation Accuracy = 0.921, loss = 0.003\n",
      "Training Accuracy = 0.984, loss = 0.000\n",
      "EPOCH 36 ...\n",
      "Validation Accuracy = 0.924, loss = 0.004\n",
      "Training Accuracy = 0.986, loss = 0.000\n",
      "EPOCH 37 ...\n",
      "Validation Accuracy = 0.918, loss = 0.004\n",
      "Training Accuracy = 0.985, loss = 0.000\n",
      "EPOCH 38 ...\n",
      "Validation Accuracy = 0.922, loss = 0.004\n",
      "Training Accuracy = 0.985, loss = 0.000\n",
      "EPOCH 39 ...\n",
      "Validation Accuracy = 0.925, loss = 0.003\n",
      "Training Accuracy = 0.985, loss = 0.000\n",
      "EPOCH 40 ...\n",
      "Validation Accuracy = 0.922, loss = 0.004\n",
      "Training Accuracy = 0.992, loss = 0.000\n",
      "EPOCH 41 ...\n",
      "Validation Accuracy = 0.912, loss = 0.004\n",
      "Training Accuracy = 0.988, loss = 0.000\n",
      "EPOCH 42 ...\n",
      "Validation Accuracy = 0.925, loss = 0.004\n",
      "Training Accuracy = 0.992, loss = 0.000\n",
      "EPOCH 43 ...\n",
      "Validation Accuracy = 0.934, loss = 0.003\n",
      "Training Accuracy = 0.992, loss = 0.000\n",
      "EPOCH 44 ...\n",
      "Validation Accuracy = 0.919, loss = 0.004\n",
      "Training Accuracy = 0.991, loss = 0.000\n",
      "EPOCH 45 ...\n",
      "Validation Accuracy = 0.929, loss = 0.004\n",
      "Training Accuracy = 0.993, loss = 0.000\n",
      "EPOCH 46 ...\n",
      "Validation Accuracy = 0.927, loss = 0.004\n",
      "Training Accuracy = 0.991, loss = 0.000\n",
      "EPOCH 47 ...\n",
      "Validation Accuracy = 0.931, loss = 0.003\n",
      "Training Accuracy = 0.993, loss = 0.000\n",
      "EPOCH 48 ...\n",
      "Validation Accuracy = 0.932, loss = 0.003\n",
      "Training Accuracy = 0.992, loss = 0.000\n",
      "EPOCH 49 ...\n",
      "Validation Accuracy = 0.936, loss = 0.003\n",
      "Training Accuracy = 0.993, loss = 0.000\n",
      "Model saved\n"
     ]
    }
   ],
   "source": [
    "if train_needed:\n",
    "    with tf.Session() as sess:\n",
    "        sess.run(tf.global_variables_initializer())\n",
    "        num_examples = len(X_train)\n",
    "        print ('Start model training')\n",
    "        print()\n",
    "        train_loss = None\n",
    "        max_accuracy = 0.0\n",
    "        for i in range(EPOCHS):\n",
    "            X_train_grayscale,y_train = shuffle(X_train_grayscale,y_train)\n",
    "            loss= 0.0\n",
    "            for offset in range(0,num_examples,BATCH_SIZE):\n",
    "                end = offset+BATCH_SIZE\n",
    "                batch_x,batch_y = X_train_grayscale[offset:end],y_train[offset:end]\n",
    "                sess.run(training_operation,feed_dict={x:batch_x,y:batch_y,keep_prob:0.85})\n",
    "\n",
    "            train_loss,training_accuracy = evaluate(X_train_grayscale,y_train)        \n",
    "            loss_valid, Validation_accuracy = evaluate(X_valid_grayscale,y_valid)\n",
    "            print(\"EPOCH {} ...\".format(i+1))\n",
    "            print(\"Validation Accuracy = {:.3f}, loss = {:.3f}\".format(Validation_accuracy,loss_valid))\n",
    "            print(\"Training Accuracy = {:.3f}, loss = {:.3f}\".format(training_accuracy,train_loss))\n",
    "\n",
    "            save_model = (Validation_accuracy > 0.935) and Validation_accuracy > max_accuracy and i > 25\n",
    "            save_file='lenet'+str(np.round(Validation_accuracy,3))\n",
    "            if save_model:\n",
    "                max_accuracy = Validation_accuracy          \n",
    "                saver.save(sess, './save_model/'+save_file)\n",
    "                print(\"Model saved\")\n",
    "                break;\n",
    "\n",
    "    "
   ]
  },
  {
   "cell_type": "code",
   "execution_count": 23,
   "metadata": {},
   "outputs": [
    {
     "name": "stdout",
     "output_type": "stream",
     "text": [
      "Test Accuracy: 0.014410134600158353, loss: 0.22818781157287452\n"
     ]
    }
   ],
   "source": [
    "# if test_needed:\n",
    "#     saver = tf.train.Saver()\n",
    "save_file = './save_model/lenet0.936' # Loads model with validation accuracy 95%\n",
    "    # Launch the graph\n",
    "with tf.Session() as sess:\n",
    "        saver.restore(sess, save_file)\n",
    "        sess.run(tf.global_variables_initializer())\n",
    "        loss,test_accuracy = evaluate(X_test_grayscale,y_test)\n",
    "        print('Test Accuracy: {}, loss: {}'.format(test_accuracy,loss))"
   ]
  },
  {
   "cell_type": "markdown",
   "metadata": {},
   "source": [
    "---\n",
    "\n",
    "## Step 3: Test a Model on New Images\n",
    "\n",
    "To give yourself more insight into how your model is working, download at least five pictures of German traffic signs from the web and use your model to predict the traffic sign type.\n",
    "\n",
    "You may find `signnames.csv` useful as it contains mappings from the class id (integer) to the actual sign name."
   ]
  },
  {
   "cell_type": "markdown",
   "metadata": {},
   "source": [
    "### Load and Output the Images"
   ]
  },
  {
   "cell_type": "code",
   "execution_count": 24,
   "metadata": {},
   "outputs": [
    {
     "name": "stdout",
     "output_type": "stream",
     "text": [
      "test img names:  ['19.jpg', '17.jpg', '18.jpg', '20.jpg', '11.jpg', '01.jpg']\n",
      "test_img_labels:  [25, 27, 17, 4, 9, 23]\n"
     ]
    },
    {
     "data": {
      "image/png": "[encoded data removed]",
      "text/plain": [
       "<matplotlib.figure.Figure at 0x7fdb1f1620b8>"
      ]
     },
     "metadata": {},
     "output_type": "display_data"
    }
   ],
   "source": [
    "### Load the images and plot them here.\n",
    "### Feel free to use as many code cells as needed.\n",
    "import os\n",
    "import cv2\n",
    "import numpy as np\n",
    "import matplotlib.pyplot as plt\n",
    "%matplotlib inline\n",
    "\n",
    "img_path ='./test_images/in_train_set/'\n",
    "img_files = [f for f in os.listdir(img_path) if os.path.isfile(os.path.join(img_path,f))]\n",
    "new_img_dict={'19.jpg':25,'17.jpg':27,'18.jpg':17,'11.jpg':9,'01.jpg':23,'20.jpg':4}\n",
    "y_new_img=[0]*len(img_files)\n",
    "\n",
    "test_img_arr = np.ndarray(shape=(len(img_files),32,32),dtype=np.float64)\n",
    "test_img_resized = np.ndarray(shape=(len(img_files),32,32),dtype=np.float64)\n",
    "\n",
    "for i in range(len(img_files)):\n",
    "    y_new_img[i] = new_img_dict[img_files[i]]\n",
    "    img = cv2.cvtColor(cv2.imread(os.path.join(img_path,img_files[i])),cv2.COLOR_BGR2RGB)\n",
    "    img_gray = cv2.cvtColor(img.astype(np.float32), cv2.COLOR_RGB2GRAY)\n",
    "    test_img_resized[i] = cv2.resize(img_gray,(32,32))\n",
    "    test_img_arr[i] = (test_img_resized[i].astype(np.float32))\n",
    "\n",
    "print (\"test img names: \",img_files)\n",
    "print(\"test_img_labels: \",y_new_img)\n",
    "\n",
    "f,axarr = plt.subplots(len(img_files),2)\n",
    "\n",
    "count = 0\n",
    "for i in range(len(img_files)):\n",
    "        axarr[i,0].imshow(cv2.cvtColor(cv2.imread(os.path.join(img_path,img_files[i])),cv2.COLOR_BGR2RGB))\n",
    "        axarr[i,1].imshow(test_img_arr[count],'gray')\n",
    "        count+=1\n",
    "test_img_arr = test_img_arr.reshape(len(img_files),32,32,1)"
   ]
  },
  {
   "cell_type": "markdown",
   "metadata": {},
   "source": [
    "### Predict the Sign Type for Each Image"
   ]
  },
  {
   "cell_type": "code",
   "execution_count": 26,
   "metadata": {},
   "outputs": [
    {
     "name": "stdout",
     "output_type": "stream",
     "text": [
      "Accuracy= 0.0\n"
     ]
    }
   ],
   "source": [
    "### Run the predictions here and use the model to output the prediction for each image.\n",
    "### Make sure to pre-process the images with the same pre-processing pipeline used earlier.\n",
    "### Feel free to use as many code cells as needed.\n",
    "# logits = lenet(x,keep_prob)\n",
    "softmax_activation = tf.nn.softmax(logits)\n",
    "top_k_predictions = tf.nn.top_k(softmax_activation,k=5)\n",
    "n_new_test_samples = len(test_img_arr)\n",
    "\n",
    "save_file = './save_model/lenet0.936' #\n",
    "with tf.Session() as sess:\n",
    "    sess.run(tf.global_variables_initializer())\n",
    "#     saver.restore(sess,save_file)\n",
    "    print(\"Accuracy=\",evaluate(test_img_arr,y_new_img)[1])\n",
    "    correct_predictions = sess.run(correct_prediction,feed_dict={x:test_img_arr,y:y_new_img,keep_prob:1.0}) \n",
    "    top_class_predictions = sess.run(top_k_predictions,feed_dict={x:test_img_arr,keep_prob:1.0})\n",
    "    "
   ]
  },
  {
   "cell_type": "markdown",
   "metadata": {},
   "source": [
    "### Analyze Performance"
   ]
  },
  {
   "cell_type": "code",
   "execution_count": null,
   "metadata": {},
   "outputs": [],
   "source": [
    "# accuracy = np.mean(np.array(predictions[0].indices[:,0] == y_new_img).astype(dtype=int))\n",
    "print(\"correct prediction on new images: \", correct_predictions)\n",
    "print(\"Accuracy on new images: \",np.mean(correct_predictions.astype(dtype=int))*100,\"%\")"
   ]
  },
  {
   "cell_type": "markdown",
   "metadata": {},
   "source": [
    "### Output Top 5 Softmax Probabilities For Each Image Found on the Web"
   ]
  },
  {
   "cell_type": "markdown",
   "metadata": {},
   "source": [
    "For each of the new images, print out the model's softmax probabilities to show the **certainty** of the model's predictions (limit the output to the top 5 probabilities for each image). [`tf.nn.top_k`](https://www.tensorflow.org/versions/r0.12/api_docs/python/nn.html#top_k) could prove helpful here. \n",
    "\n",
    "The example below demonstrates how tf.nn.top_k can be used to find the top k predictions for each image.\n",
    "\n",
    "`tf.nn.top_k` will return the values and indices (class ids) of the top k predictions. So if k=3, for each sign, it'll return the 3 largest probabilities (out of a possible 43) and the correspoding class ids.\n",
    "\n",
    "Take this numpy array as an example. The values in the array represent predictions. The array contains softmax probabilities for five candidate images with six possible classes. `tf.nn.top_k` is used to choose the three classes with the highest probability:\n",
    "\n",
    "```\n",
    "# (5, 6) array\n",
    "a = np.array([[ 0.24879643,  0.07032244,  0.12641572,  0.34763842,  0.07893497,\n",
    "         0.12789202],\n",
    "       [ 0.28086119,  0.27569815,  0.08594638,  0.0178669 ,  0.18063401,\n",
    "         0.15899337],\n",
    "       [ 0.26076848,  0.23664738,  0.08020603,  0.07001922,  0.1134371 ,\n",
    "         0.23892179],\n",
    "       [ 0.11943333,  0.29198961,  0.02605103,  0.26234032,  0.1351348 ,\n",
    "         0.16505091],\n",
    "       [ 0.09561176,  0.34396535,  0.0643941 ,  0.16240774,  0.24206137,\n",
    "         0.09155967]])\n",
    "```\n",
    "\n",
    "Running it through `sess.run(tf.nn.top_k(tf.constant(a), k=3))` produces:\n",
    "\n",
    "```\n",
    "TopKV2(values=array([[ 0.34763842,  0.24879643,  0.12789202],\n",
    "       [ 0.28086119,  0.27569815,  0.18063401],\n",
    "       [ 0.26076848,  0.23892179,  0.23664738],\n",
    "       [ 0.29198961,  0.26234032,  0.16505091],\n",
    "       [ 0.34396535,  0.24206137,  0.16240774]]), indices=array([[3, 0, 5],\n",
    "       [0, 1, 4],\n",
    "       [0, 5, 1],\n",
    "       [1, 3, 5],\n",
    "       [1, 4, 3]], dtype=int32))\n",
    "```\n",
    "\n",
    "Looking just at the first row we get `[ 0.34763842,  0.24879643,  0.12789202]`, you can confirm these are the 3 largest probabilities in `a`. You'll also notice `[3, 0, 5]` are the corresponding indices."
   ]
  },
  {
   "cell_type": "code",
   "execution_count": 16,
   "metadata": {},
   "outputs": [
    {
     "name": "stdout",
     "output_type": "stream",
     "text": [
      "Top 5 softmax probablities: \n",
      "TopKV2(values=array([[  9.99957085e-01,   4.26167207e-05,   3.19933861e-07,\n",
      "          2.15584652e-08,   1.84794194e-10],\n",
      "       [  9.83774543e-01,   1.62253156e-02,   2.07543010e-07,\n",
      "          5.85023274e-09,   5.72857184e-09],\n",
      "       [  1.00000000e+00,   5.49245593e-10,   5.79346553e-12,\n",
      "          1.83823734e-14,   1.42306126e-14],\n",
      "       [  9.90847051e-01,   7.72186974e-03,   1.19140965e-03,\n",
      "          2.00833078e-04,   2.76591036e-05],\n",
      "       [  1.00000000e+00,   5.57935365e-10,   1.56348490e-10,\n",
      "          6.10569165e-11,   4.24569616e-11],\n",
      "       [  9.89122927e-01,   1.08568342e-02,   1.88996783e-05,\n",
      "          1.36193103e-06,   5.82344797e-11]], dtype=float32), indices=array([[19,  8, 32, 36, 30],\n",
      "       [36,  4,  8, 30, 10],\n",
      "       [ 4,  8, 35, 28, 31],\n",
      "       [21, 10,  8,  4, 19],\n",
      "       [19,  4,  8, 36, 32],\n",
      "       [19,  4, 36,  8, 10]], dtype=int32))\n"
     ]
    }
   ],
   "source": [
    "### Print out the top five softmax probabilities for the predictions on the German traffic sign images found on the web. \n",
    "### Feel free to use as many code cells as needed.\n",
    "print(\"Top 5 softmax probablities: \")\n",
    "print(top_class_predictions)"
   ]
  },
  {
   "cell_type": "markdown",
   "metadata": {},
   "source": [
    "### Project Writeup\n",
    "\n",
    "Once you have completed the code implementation, document your results in a project writeup using this [template](https://github.com/udacity/CarND-Traffic-Sign-Classifier-Project/blob/master/writeup_template.md) as a guide. The writeup can be in a markdown or pdf file. "
   ]
  },
  {
   "cell_type": "markdown",
   "metadata": {},
   "source": [
    "> **Note**: Once you have completed all of the code implementations and successfully answered each question above, you may finalize your work by exporting the iPython Notebook as an HTML document. You can do this by using the menu above and navigating to  \\n\",\n",
    "    \"**File -> Download as -> HTML (.html)**. Include the finished document along with this notebook as your submission."
   ]
  },
  {
   "cell_type": "markdown",
   "metadata": {},
   "source": [
    "---\n",
    "\n",
    "## Step 4 (Optional): Visualize the Neural Network's State with Test Images\n",
    "\n",
    " This Section is not required to complete but acts as an additional excersise for understaning the output of a neural network's weights. While neural networks can be a great learning device they are often referred to as a black box. We can understand what the weights of a neural network look like better by plotting their feature maps. After successfully training your neural network you can see what it's feature maps look like by plotting the output of the network's weight layers in response to a test stimuli image. From these plotted feature maps, it's possible to see what characteristics of an image the network finds interesting. For a sign, maybe the inner network feature maps react with high activation to the sign's boundary outline or to the contrast in the sign's painted symbol.\n",
    "\n",
    " Provided for you below is the function code that allows you to get the visualization output of any tensorflow weight layer you want. The inputs to the function should be a stimuli image, one used during training or a new one you provided, and then the tensorflow variable name that represents the layer's state during the training process, for instance if you wanted to see what the [LeNet lab's](https://classroom.udacity.com/nanodegrees/nd013/parts/fbf77062-5703-404e-b60c-95b78b2f3f9e/modules/6df7ae49-c61c-4bb2-a23e-6527e69209ec/lessons/601ae704-1035-4287-8b11-e2c2716217ad/concepts/d4aca031-508f-4e0b-b493-e7b706120f81) feature maps looked like for it's second convolutional layer you could enter conv2 as the tf_activation variable.\n",
    "\n",
    "For an example of what feature map outputs look like, check out NVIDIA's results in their paper [End-to-End Deep Learning for Self-Driving Cars](https://devblogs.nvidia.com/parallelforall/deep-learning-self-driving-cars/) in the section Visualization of internal CNN State. NVIDIA was able to show that their network's inner weights had high activations to road boundary lines by comparing feature maps from an image with a clear path to one without. Try experimenting with a similar test to show that your trained network's weights are looking for interesting features, whether it's looking at differences in feature maps from images with or without a sign, or even what feature maps look like in a trained network vs a completely untrained one on the same sign image.\n",
    "\n",
    "<figure>\n",
    " <img src=\"visualize_cnn.png\" width=\"380\" alt=\"Combined Image\" />\n",
    " <figcaption>\n",
    " <p></p> \n",
    " <p style=\"text-align: center;\"> Your output should look something like this (above)</p> \n",
    " </figcaption>\n",
    "</figure>\n",
    " <p></p> \n"
   ]
  },
  {
   "cell_type": "code",
   "execution_count": null,
   "metadata": {
    "collapsed": true
   },
   "outputs": [],
   "source": [
    "### Visualize your network's feature maps here.\n",
    "### Feel free to use as many code cells as needed.\n",
    "\n",
    "# image_input: the test image being fed into the network to produce the feature maps\n",
    "# tf_activation: should be a tf variable name used during your training procedure that represents the calculated state of a specific weight layer\n",
    "# activation_min/max: can be used to view the activation contrast in more detail, by default matplot sets min and max to the actual min and max values of the output\n",
    "# plt_num: used to plot out multiple different weight feature map sets on the same block, just extend the plt number for each new feature map entry\n",
    "\n",
    "def outputFeatureMap(image_input, tf_activation, activation_min=-1, activation_max=-1 ,plt_num=1):\n",
    "    # Here make sure to preprocess your image_input in a way your network expects\n",
    "    # with size, normalization, ect if needed\n",
    "    # image_input =\n",
    "    # Note: x should be the same name as your network's tensorflow data placeholder variable\n",
    "    # If you get an error tf_activation is not defined it may be having trouble accessing the variable from inside a function\n",
    "    activation = tf_activation.eval(session=sess,feed_dict={x : image_input})\n",
    "    featuremaps = activation.shape[3]\n",
    "    plt.figure(plt_num, figsize=(15,15))\n",
    "    for featuremap in range(featuremaps):\n",
    "        plt.subplot(6,8, featuremap+1) # sets the number of feature maps to show on each row and column\n",
    "        plt.title('FeatureMap ' + str(featuremap)) # displays the feature map number\n",
    "        if activation_min != -1 & activation_max != -1:\n",
    "            plt.imshow(activation[0,:,:, featuremap], interpolation=\"nearest\", vmin =activation_min, vmax=activation_max, cmap=\"gray\")\n",
    "        elif activation_max != -1:\n",
    "            plt.imshow(activation[0,:,:, featuremap], interpolation=\"nearest\", vmax=activation_max, cmap=\"gray\")\n",
    "        elif activation_min !=-1:\n",
    "            plt.imshow(activation[0,:,:, featuremap], interpolation=\"nearest\", vmin=activation_min, cmap=\"gray\")\n",
    "        else:\n",
    "            plt.imshow(activation[0,:,:, featuremap], interpolation=\"nearest\", cmap=\"gray\")"
   ]
  },
  {
   "cell_type": "code",
   "execution_count": null,
   "metadata": {
    "collapsed": true
   },
   "outputs": [],
   "source": []
  }
 ],
 "metadata": {
  "anaconda-cloud": {},
  "kernelspec": {
   "display_name": "Python 3",
   "language": "python",
   "name": "python3"
  },
  "language_info": {
   "codemirror_mode": {
    "name": "ipython",
    "version": 3
   },
   "file_extension": ".py",
   "mimetype": "text/x-python",
   "name": "python",
   "nbconvert_exporter": "python",
   "pygments_lexer": "ipython3",
   "version": "3.5.2"
  },
  "widgets": {
   "state": {},
   "version": "1.1.2"
  }
 },
 "nbformat": 4,
 "nbformat_minor": 1
}
